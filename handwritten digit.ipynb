{
  "nbformat": 4,
  "nbformat_minor": 0,
  "metadata": {
    "colab": {
      "provenance": []
    },
    "kernelspec": {
      "name": "python3",
      "display_name": "Python 3"
    },
    "language_info": {
      "name": "python"
    }
  },
  "cells": [
    {
      "cell_type": "code",
      "execution_count": null,
      "metadata": {
        "id": "1UnSWGz0gkOU"
      },
      "outputs": [],
      "source": [
        "#importing tensorflow libraries for dataset, layers and model\n",
        "import tensorflow as tf\n",
        "from tensorflow.keras import layers, models\n",
        "from tensorflow.keras.datasets import mnist\n",
        "from tensorflow.keras.utils import to_categorical\n"
      ]
    },
    {
      "cell_type": "code",
      "source": [
        "\"\"\"\n",
        "    Function to build a convolutional neural network (CNN) model for digit classification.\n",
        "\n",
        "    Parameters:\n",
        "        input_shape (tuple): The shape of the input images. Default is (28, 28, 1) for grayscale images.\n",
        "\n",
        "    Returns:\n",
        "        tf.keras.Model: The constructed CNN model.\n",
        "\"\"\"\n",
        "def build_model(input_shape=(28, 28, 1)):\n",
        "   # Convolutional layers\n",
        "    model = models.Sequential([\n",
        "        layers.Conv2D(32, (3, 3), activation='relu', input_shape=input_shape),\n",
        "        layers.MaxPooling2D((2, 2)),\n",
        "        layers.Conv2D(64, (3, 3), activation='relu'),\n",
        "        layers.MaxPooling2D((2, 2)),\n",
        "        layers.Conv2D(64, (3, 3), activation='relu'),\n",
        "        # Fully connected layers\n",
        "        layers.Flatten(),\n",
        "        layers.Dense(64, activation='relu'),\n",
        "        layers.Dense(10, activation='softmax')\n",
        "    ])\n",
        "     # Compile the model\n",
        "    model.compile(optimizer='adam',\n",
        "                  loss='categorical_crossentropy',\n",
        "                  metrics=['accuracy'])\n",
        "    return model"
      ],
      "metadata": {
        "id": "Vj14D7n8iaA-"
      },
      "execution_count": null,
      "outputs": []
    },
    {
      "cell_type": "code",
      "source": [
        "\"\"\"\n",
        "    Function to train the CNN model on the given dataset.\n",
        "\n",
        "    Parameters:\n",
        "        model (tf.keras.Model): The CNN model to train.\n",
        "        train_images (numpy.ndarray): The training images.\n",
        "        train_labels (numpy.ndarray): The training labels.\n",
        "        test_images (numpy.ndarray): The test images.\n",
        "        test_labels (numpy.ndarray): The test labels.\n",
        "        epochs (int): Number of epochs for training. Default is 5.\n",
        "        batch_size (int): Batch size for training. Default is 32.\n",
        "\"\"\"\n",
        "def train_model(model, train_images, train_labels, test_images, test_labels, epochs=5, batch_size=32):\n",
        "      # Preprocess the data\n",
        "    train_images = train_images.reshape((train_images.shape[0], 28, 28, 1))\n",
        "    test_images = test_images.reshape((test_images.shape[0], 28, 28, 1))\n",
        "    train_images = train_images.astype('float32') / 255\n",
        "    test_images = test_images.astype('float32') / 255\n",
        "    train_labels = to_categorical(train_labels)\n",
        "    test_labels = to_categorical(test_labels)\n",
        "    # Train and fit the model\n",
        "    model.fit(train_images, train_labels, epochs=epochs, batch_size=batch_size, validation_data=(test_images, test_labels))"
      ],
      "metadata": {
        "id": "Ywhkoeg_igeh"
      },
      "execution_count": null,
      "outputs": []
    },
    {
      "cell_type": "code",
      "source": [
        "\"\"\"Function to evaluate the trained CNN model on the test set.\n",
        "\n",
        "    Parameters:\n",
        "        model (tf.keras.Model): The trained CNN model.\n",
        "        test_images (numpy.ndarray): The test images.\n",
        "        test_labels (numpy.ndarray): The test labels.\n",
        "\"\"\"\n",
        " # Preprocess the test data\n",
        "def evaluate_model(model, test_images, test_labels):\n",
        "    test_images = test_images.reshape((test_images.shape[0], 28, 28, 1))\n",
        "    test_images = test_images.astype('float32') / 255\n",
        "    test_labels = to_categorical(test_labels)\n",
        "\n",
        "    _, accuracy = model.evaluate(test_images, test_labels)\n",
        "    print('Test accuracy:', accuracy)\n"
      ],
      "metadata": {
        "id": "pW_foEc5imYc"
      },
      "execution_count": null,
      "outputs": []
    },
    {
      "cell_type": "code",
      "source": [
        "# Load the dataset\n",
        "(train_images, train_labels), (test_images, test_labels) = mnist.load_data()\n",
        "\n"
      ],
      "metadata": {
        "id": "ujXg3hTuirNi"
      },
      "execution_count": null,
      "outputs": []
    },
    {
      "cell_type": "code",
      "source": [
        "import matplotlib.pyplot as plt\n",
        "import numpy as np\n",
        "plt.figure(figsize=(10, 5))\n",
        "for i in range(10):\n",
        "    plt.subplot(2, 5, i + 1)\n",
        "    plt.imshow(train_images[i], cmap='gray')\n",
        "    plt.title(f\"Label: {train_labels[i]}\")\n",
        "    plt.axis('off')\n",
        "plt.show()"
      ],
      "metadata": {
        "colab": {
          "base_uri": "https://localhost:8080/",
          "height": 402
        },
        "id": "lQEFR8yHjAYu",
        "outputId": "589c464c-341f-49ca-c601-6a97aa110861"
      },
      "execution_count": null,
      "outputs": [
        {
          "output_type": "display_data",
          "data": {
            "text/plain": [
              "<Figure size 1000x500 with 10 Axes>"
            ],
            "image/png": "[encoded data removed]"
          },
          "metadata": {}
        }
      ]
    },
    {
      "cell_type": "code",
      "source": [
        "# Reshape and preprocess the data\n",
        "train_images = train_images.reshape((train_images.shape[0], 28, 28, 1))\n",
        "test_images = test_images.reshape((test_images.shape[0], 28, 28, 1))\n",
        "train_images = train_images.astype('float32') / 255\n",
        "test_images = test_images.astype('float32') / 255"
      ],
      "metadata": {
        "id": "tVbfX4HLjbBH"
      },
      "execution_count": null,
      "outputs": []
    },
    {
      "cell_type": "code",
      "source": [
        "# Build the model\n",
        "model = build_model()\n",
        "\n",
        "# Train the model\n",
        "train_model(model, train_images, train_labels, test_images, test_labels, epochs=5, batch_size=32)\n",
        "\n",
        "# Evaluate the model\n",
        "evaluate_model(model, test_images, test_labels)"
      ],
      "metadata": {
        "colab": {
          "base_uri": "https://localhost:8080/"
        },
        "id": "49xgrw4pjjuP",
        "outputId": "a7ee3da0-a542-4532-d32a-221d05fd698b"
      },
      "execution_count": null,
      "outputs": [
        {
          "output_type": "stream",
          "name": "stdout",
          "text": [
            "Epoch 1/5\n",
            "1875/1875 [==============================] - 54s 28ms/step - loss: 0.7662 - accuracy: 0.7357 - val_loss: 0.2417 - val_accuracy: 0.9247\n",
            "Epoch 2/5\n",
            "1875/1875 [==============================] - 62s 33ms/step - loss: 0.1987 - accuracy: 0.9385 - val_loss: 0.1281 - val_accuracy: 0.9585\n",
            "Epoch 3/5\n",
            "1875/1875 [==============================] - 59s 31ms/step - loss: 0.1368 - accuracy: 0.9574 - val_loss: 0.1122 - val_accuracy: 0.9631\n",
            "Epoch 4/5\n",
            "1875/1875 [==============================] - 58s 31ms/step - loss: 0.1069 - accuracy: 0.9666 - val_loss: 0.0915 - val_accuracy: 0.9715\n",
            "Epoch 5/5\n",
            "1875/1875 [==============================] - 63s 34ms/step - loss: 0.0887 - accuracy: 0.9719 - val_loss: 0.0672 - val_accuracy: 0.9795\n",
            "313/313 [==============================] - 2s 8ms/step - loss: 0.0672 - accuracy: 0.9795\n",
            "Test accuracy: 0.9794999957084656\n"
          ]
        }
      ]
    }
  ]
}