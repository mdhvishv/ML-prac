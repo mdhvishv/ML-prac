{
  "nbformat": 4,
  "nbformat_minor": 0,
  "metadata": {
    "colab": {
      "provenance": []
    },
    "kernelspec": {
      "name": "python3",
      "display_name": "Python 3"
    },
    "language_info": {
      "name": "python"
    }
  },
  "cells": [
    {
      "cell_type": "code",
      "source": [
        "import itertools  # Import the itertools module for working with iterators and combinatorial iterators\n",
        "\n",
        "# Define the distances between locations as a dictionary\n",
        "distances = {\n",
        "    ('A', 'B'): 10,\n",
        "    ('A', 'C'): 15,\n",
        "    ('A', 'D'): 20,\n",
        "    ('A', 'E'): 25,\n",
        "    ('B', 'C'): 12,\n",
        "    ('B', 'D'): 18,\n",
        "    ('B', 'E'): 22,\n",
        "    ('C', 'D'): 10,\n",
        "    ('C', 'E'): 14,\n",
        "    ('D', 'E'): 8\n",
        "}\n",
        "\n",
        "def nearest_neighbor(distances):\n",
        "    # Extract all unique locations from the dictionary of distances and store them in a set\n",
        "    locations = set(itertools.chain.from_iterable(distances.keys()))\n",
        "\n",
        "    # Define the starting location and create a set of unvisited locations\n",
        "    start = 'A'\n",
        "    unvisited = locations - {start}\n",
        "\n",
        "    # Initialize variables to track current location, route, and total distance\n",
        "    current_location = start\n",
        "    route = [start]\n",
        "    total_distance = 0\n",
        "\n",
        "    # Continue until there are unvisited locations\n",
        "    while unvisited:\n",
        "        # Find the nearest unvisited location to the current location\n",
        "        nearest_neighbor = min(unvisited, key=lambda x: distances.get((current_location, x), float('inf')))\n",
        "\n",
        "        # If there's no direct path to the nearest neighbor, break the loop\n",
        "        if distances.get((current_location, nearest_neighbor)) is None:\n",
        "            print(\"Route is not possible!\")\n",
        "            return [], float('inf')\n",
        "\n",
        "        # Update the route and total distance with the nearest neighbor\n",
        "        route.append(nearest_neighbor)\n",
        "        total_distance += distances[(current_location, nearest_neighbor)]  # Update total distance\n",
        "\n",
        "        # Update current location and remove nearest neighbor from unvisited set\n",
        "        current_location = nearest_neighbor\n",
        "        unvisited.remove(nearest_neighbor)\n",
        "\n",
        "    # Return to start if possible\n",
        "    if distances.get((current_location, start)) is not None:\n",
        "        route.append(start)\n",
        "        total_distance += distances[(current_location, start)]  # Update total distance\n",
        "\n",
        "    return route, total_distance\n",
        "\n",
        "# Call the nearest_neighbor function with the distances dictionary\n",
        "route, total_distance = nearest_neighbor(distances)\n",
        "\n",
        "# Print the optimal route and total distance traveled\n",
        "if route:  # Check if route is not empty\n",
        "    print(\"Optimal Route:\", ' -> '.join(route))\n",
        "    print(\"Total Distance Traveled:\", total_distance, \"miles\")\n"
      ],
      "metadata": {
        "colab": {
          "base_uri": "https://localhost:8080/"
        },
        "id": "APW77xZ9GFNd",
        "outputId": "563273ca-5358-4b1c-8972-5daabad0b94a"
      },
      "execution_count": null,
      "outputs": [
        {
          "output_type": "stream",
          "name": "stdout",
          "text": [
            "Optimal Route: A -> B -> C -> D -> E\n",
            "Total Distance Traveled: 40 miles\n"
          ]
        }
      ]
    },
    {
      "cell_type": "code",
      "source": [],
      "metadata": {
        "id": "V40fdf5R5NY0"
      },
      "execution_count": null,
      "outputs": []
    }
  ]
}